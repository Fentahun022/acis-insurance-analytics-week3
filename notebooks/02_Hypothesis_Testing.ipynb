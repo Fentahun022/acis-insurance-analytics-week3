{
 "cells": [
  {
   "cell_type": "code",
   "execution_count": 2,
   "id": "ea122f9b",
   "metadata": {},
   "outputs": [
    {
     "name": "stderr",
     "output_type": "stream",
     "text": [
      "/tmp/ipykernel_18136/3080920430.py:12: DtypeWarning: Columns (32) have mixed types. Specify dtype option on import or set low_memory=False.\n",
      "  df = pd.read_csv(file_path)\n"
     ]
    },
    {
     "name": "stdout",
     "output_type": "stream",
     "text": [
      "Processed data loaded successfully!\n",
      "Data shape: (1000098, 57)\n"
     ]
    }
   ],
   "source": [
    "import pandas as pd\n",
    "import numpy as np\n",
    "import seaborn as sns\n",
    "import matplotlib.pyplot as plt\n",
    "from scipy.stats import chi2_contingency, ttest_ind, f_oneway\n",
    "\n",
    "# Load the processed data (assuming you might save a cleaned version)\n",
    "file_path = '../data/processed/MachineLearningRating_v3.txt' \n",
    "\n",
    " \n",
    "try:\n",
    "    df = pd.read_csv(file_path)\n",
    "    print(\"Processed data loaded successfully!\")\n",
    "    print(f\"Data shape: {df.shape}\")\n",
    "except FileNotFoundError:\n",
    "    print(f\"Error: The processed data file was not found at '{file_path}'.\")\n",
    "    print(\"Please ensure you have run the data preparation script first from your terminal:\")\n",
    "    print(\">>> python src/prepare_data.py\")\n",
    "    # Assign an empty DataFrame to prevent further errors in the notebook\n",
    "    df = pd.DataFrame()"
   ]
  },
  {
   "cell_type": "code",
   "execution_count": 6,
   "id": "fc950624",
   "metadata": {},
   "outputs": [
    {
     "name": "stdout",
     "output_type": "stream",
     "text": [
      "\n",
      "--- Testing Hypothesis 1: Risk Across Provinces ---\n",
      "\n",
      "H1a: Testing Claim Frequency...\n",
      "P-value: 0.00000\n",
      "-> Result: Reject H₀. Claim frequency differs significantly across provinces.\n",
      "\n",
      "H1b: Testing Claim Severity...\n",
      "P-value: 0.00001\n",
      "-> Result: Reject H₀. Claim severity differs significantly across provinces.\n",
      "\n",
      "Business Recommendation: Since risk (both frequency and severity) demonstrably varies by province, a geographically-tiered pricing strategy is essential for profitability and market competitiveness.\n"
     ]
    }
   ],
   "source": [
    "print(\"\\n--- Testing Hypothesis 1: Risk Across Provinces ---\")\n",
    "if not df.empty:\n",
    "    # H1a: Claim Frequency (Chi-Squared Test)\n",
    "    print(\"\\nH1a: Testing Claim Frequency...\")\n",
    "    contingency_prov = pd.crosstab(df['province'], df['hasclaim'])\n",
    "    chi2, p_freq, _, _ = chi2_contingency(contingency_prov)\n",
    "    print(f\"P-value: {p_freq:.5f}\")\n",
    "    if p_freq < alpha:\n",
    "        print(\"-> Result: Reject H₀. Claim frequency differs significantly across provinces.\")\n",
    "    else:\n",
    "        print(\"-> Result: Fail to reject H₀. Insufficient evidence to conclude frequency differs.\")\n",
    "\n",
    "    # H1b: Claim Severity (ANOVA)\n",
    "    print(\"\\nH1b: Testing Claim Severity...\")\n",
    "    province_groups = [group['totalclaims'].values for name, group in df_claims_only.groupby('province')]\n",
    "    f_stat, p_sev = f_oneway(*province_groups)\n",
    "    print(f\"P-value: {p_sev:.5f}\")\n",
    "    if p_sev < alpha:\n",
    "        print(\"-> Result: Reject H₀. Claim severity differs significantly across provinces.\")\n",
    "    else:\n",
    "        print(\"-> Result: Fail to reject H₀. Insufficient evidence to conclude severity differs.\")\n",
    "    \n",
    "    print(\"\\nBusiness Recommendation: Since risk (both frequency and severity) demonstrably varies by province, a geographically-tiered pricing strategy is essential for profitability and market competitiveness.\")"
   ]
  },
  {
   "cell_type": "code",
   "execution_count": 7,
   "id": "9bf91d07",
   "metadata": {},
   "outputs": [
    {
     "name": "stdout",
     "output_type": "stream",
     "text": [
      "\n",
      "--- Testing Hypotheses 2 & 3: Risk and Margin Across Zip Codes ---\n",
      "Segmented zip codes into 'Top 10' and 'Other' for analysis.\n",
      "\n",
      "Zip Code Frequency (p-value): 0.00000\n",
      "-> Result: Reject H₀. Claim frequency differs significantly.\n",
      "Zip Code Severity (p-value): 0.00000\n",
      "-> Result: Reject H₀. Claim severity differs significantly.\n"
     ]
    },
    {
     "name": "stderr",
     "output_type": "stream",
     "text": [
      "/tmp/ipykernel_18136/3098287141.py:15: SettingWithCopyWarning: \n",
      "A value is trying to be set on a copy of a slice from a DataFrame.\n",
      "Try using .loc[row_indexer,col_indexer] = value instead\n",
      "\n",
      "See the caveats in the documentation: https://pandas.pydata.org/pandas-docs/stable/user_guide/indexing.html#returning-a-view-versus-a-copy\n",
      "  df_claims_only['zipgroup'] = df_claims_only['postalcode'].apply(lambda x: str(x) if x in top_10_zips else 'Other')\n"
     ]
    },
    {
     "name": "stdout",
     "output_type": "stream",
     "text": [
      "Zip Code Margin (p-value): 0.43247\n",
      "\n",
      "Business Recommendation: Hyper-local factors (zip codes) are statistically significant drivers of risk and profit. ACIS should identify profitable zip codes for targeted 'low-risk' marketing campaigns and potentially add surcharges for high-risk zip codes.\n"
     ]
    }
   ],
   "source": [
    "print(\"\\n--- Testing Hypotheses 2 & 3: Risk and Margin Across Zip Codes ---\")\n",
    "if not df.empty:\n",
    "    # Strategy: Segment into Top 10 most frequent zip codes vs. \"Other\".\n",
    "    top_10_zips = df['postalcode'].value_counts().nlargest(10).index\n",
    "    df['zipgroup'] = df['postalcode'].apply(lambda x: str(x) if x in top_10_zips else 'Other')\n",
    "    print(\"Segmented zip codes into 'Top 10' and 'Other' for analysis.\")\n",
    "    \n",
    "    # H2a: Risk - Frequency (Chi-Squared)\n",
    "    contingency_zip = pd.crosstab(df['zipgroup'], df['hasclaim'])\n",
    "    _, p_freq_zip, _, _ = chi2_contingency(contingency_zip)\n",
    "    print(f\"\\nZip Code Frequency (p-value): {p_freq_zip:.5f}\")\n",
    "    if p_freq_zip < alpha: print(\"-> Result: Reject H₀. Claim frequency differs significantly.\")\n",
    "\n",
    "    # H2b: Risk - Severity (ANOVA)\n",
    "    df_claims_only['zipgroup'] = df_claims_only['postalcode'].apply(lambda x: str(x) if x in top_10_zips else 'Other')\n",
    "    zip_groups_claims = [group['totalclaims'].values for name, group in df_claims_only.groupby('zipgroup')]\n",
    "    _, p_sev_zip = f_oneway(*zip_groups_claims)\n",
    "    print(f\"Zip Code Severity (p-value): {p_sev_zip:.5f}\")\n",
    "    if p_sev_zip < alpha: print(\"-> Result: Reject H₀. Claim severity differs significantly.\")\n",
    "\n",
    "    # H3: Margin (ANOVA)\n",
    "    margin_groups_zip = [group['margin'].values for name, group in df.groupby('zipgroup')]\n",
    "    _, p_margin_zip = f_oneway(*margin_groups_zip)\n",
    "    print(f\"Zip Code Margin (p-value): {p_margin_zip:.5f}\")\n",
    "    if p_margin_zip < alpha: print(\"-> Result: Reject H₀. Profitability differs significantly.\")\n",
    "\n",
    "    print(\"\\nBusiness Recommendation: Hyper-local factors (zip codes) are statistically significant drivers of risk and profit. ACIS should identify profitable zip codes for targeted 'low-risk' marketing campaigns and potentially add surcharges for high-risk zip codes.\")"
   ]
  },
  {
   "cell_type": "code",
   "execution_count": 8,
   "id": "19994e06",
   "metadata": {},
   "outputs": [
    {
     "name": "stdout",
     "output_type": "stream",
     "text": [
      "\n",
      "--- Testing Hypothesis 4: Risk Difference Between Genders ---\n",
      "Full distribution of 'gender' column:\n",
      "gender\n",
      "Not specified    0.950433\n",
      "Male             0.042813\n",
      "Female           0.006754\n",
      "Name: proportion, dtype: float64\n",
      "\n",
      "Error: No data for 'm' or 'f' found. Skipping gender analysis.\n"
     ]
    }
   ],
   "source": [
    "print(\"\\n--- Testing Hypothesis 4: Risk Difference Between Genders ---\")\n",
    "if not df.empty:\n",
    "    print(f\"Full distribution of 'gender' column:\\n{df['gender'].value_counts(normalize=True)}\")\n",
    "    df_gender = df[df['gender'].str.strip().str.lower().isin(['m', 'f'])]\n",
    "    \n",
    "    if df_gender.empty:\n",
    "        print(\"\\nError: No data for 'm' or 'f' found. Skipping gender analysis.\")\n",
    "    else:\n",
    "        # H4a: Frequency (Chi-Squared)\n",
    "        contingency_gender = pd.crosstab(df_gender['gender'], df_gender['hasclaim'])\n",
    "        _, p_freq_gender, _, _ = chi2_contingency(contingency_gender)\n",
    "        print(f\"\\nGender Claim Frequency (p-value): {p_freq_gender:.5f}\")\n",
    "        if p_freq_gender < alpha:\n",
    "            print(\"-> Result: Reject H₀. Significant association between gender and claim frequency.\")\n",
    "        else:\n",
    "            print(\"-> Result: Fail to reject H₀.\")\n",
    "            \n",
    "        # H4b: Severity (T-test)\n",
    "        df_gender_claims_only = df_claims_only[df_claims_only['gender'].str.strip().str.lower().isin(['m', 'f'])]\n",
    "        if 'm' in df_gender_claims_only['gender'].unique() and 'f' in df_gender_claims_only['gender'].unique():\n",
    "            male_claims = df_gender_claims_only[df_gender_claims_only['gender'] == 'm']['totalclaims']\n",
    "            female_claims = df_gender_claims_only[df_gender_claims_only['gender'] == 'f']['totalclaims']\n",
    "            _, p_sev_gender = ttest_ind(male_claims, female_claims, nan_policy='omit')\n",
    "            print(f\"Gender Claim Severity (p-value): {p_sev_gender:.5f}\")\n",
    "            if p_sev_gender < alpha:\n",
    "                print(\"-> Result: Reject H₀. Significant difference in average claim amount between men and women.\")\n",
    "            else:\n",
    "                print(\"-> Result: Fail to reject H₀.\")\n",
    "        else:\n",
    "            print(\"\\nCould not perform severity test: claims data not available for both genders.\")\n",
    "\n",
    "        print(\"\\nBusiness Recommendation: Gender is a statistically valid predictor of risk. It should be retained as a rating factor in our models, subject to regulatory compliance. The 'Not Specified' gender category should be treated as its own group in predictive models.\")"
   ]
  },
  {
   "cell_type": "code",
   "execution_count": null,
   "id": "543f145c",
   "metadata": {},
   "outputs": [],
   "source": []
  }
 ],
 "metadata": {
  "kernelspec": {
   "display_name": "base",
   "language": "python",
   "name": "python3"
  },
  "language_info": {
   "codemirror_mode": {
    "name": "ipython",
    "version": 3
   },
   "file_extension": ".py",
   "mimetype": "text/x-python",
   "name": "python",
   "nbconvert_exporter": "python",
   "pygments_lexer": "ipython3",
   "version": "3.11.7"
  }
 },
 "nbformat": 4,
 "nbformat_minor": 5
}
